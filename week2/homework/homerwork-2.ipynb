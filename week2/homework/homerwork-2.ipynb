{
 "cells": [
  {
   "cell_type": "markdown",
   "id": "bbf1549d",
   "metadata": {},
   "source": [
    "# Homework Week 2"
   ]
  },
  {
   "cell_type": "markdown",
   "id": "fb28f2a4",
   "metadata": {},
   "source": [
    "## Q1. Install MLflow"
   ]
  },
  {
   "cell_type": "code",
   "execution_count": 1,
   "id": "67a5ac55",
   "metadata": {},
   "outputs": [],
   "source": [
    "import mlflow\n"
   ]
  },
  {
   "cell_type": "code",
   "execution_count": 2,
   "id": "4a67451e",
   "metadata": {},
   "outputs": [],
   "source": [
    "t = !mlflow --version"
   ]
  },
  {
   "cell_type": "code",
   "execution_count": 3,
   "id": "9c7cebf8",
   "metadata": {},
   "outputs": [
    {
     "name": "stdout",
     "output_type": "stream",
     "text": [
      "The version of MLflow is ['1.26.1']\n"
     ]
    }
   ],
   "source": [
    "print(f\"The version of MLflow is {t.fields(2)}\")"
   ]
  },
  {
   "cell_type": "markdown",
   "id": "a60341f6",
   "metadata": {},
   "source": [
    "## Q2. Download and preprocess the data"
   ]
  },
  {
   "cell_type": "code",
   "execution_count": 4,
   "id": "ce4c881a",
   "metadata": {},
   "outputs": [],
   "source": [
    "!python preprocess_data.py --raw_data_path ~/notebooks/mlops-zoomcamp/week2/data/ --dest_path ./output"
   ]
  },
  {
   "cell_type": "code",
   "execution_count": 5,
   "id": "3b56b6de",
   "metadata": {},
   "outputs": [
    {
     "name": "stdout",
     "output_type": "stream",
     "text": [
      "dv.pkl\ttest.pkl  train.pkl  valid.pkl\n"
     ]
    }
   ],
   "source": [
    "!ls ./output"
   ]
  },
  {
   "cell_type": "code",
   "execution_count": 6,
   "id": "359cb0be",
   "metadata": {},
   "outputs": [
    {
     "name": "stdout",
     "output_type": "stream",
     "text": [
      "In total there are 4 files created in the output.\n"
     ]
    }
   ],
   "source": [
    "print(\"In total there are 4 files created in the output.\")"
   ]
  },
  {
   "cell_type": "markdown",
   "id": "9e00ac46",
   "metadata": {},
   "source": [
    "# Q3. Train a model with autolog"
   ]
  },
  {
   "cell_type": "code",
   "execution_count": 8,
   "id": "9ccf21e6",
   "metadata": {},
   "outputs": [
    {
     "name": "stdout",
     "output_type": "stream",
     "text": [
      "2022/05/31 09:00:45 INFO mlflow.tracking.fluent: Experiment with name 'nyc-experiment-homework-w2' does not exist. Creating a new experiment.\n",
      "2022/05/31 09:01:11 WARNING mlflow.utils.autologging_utils: MLflow autologging encountered a warning: \"/home/ubuntu/anaconda3/envs/exp-tracking-env/lib/python3.9/site-packages/_distutils_hack/__init__.py:30: UserWarning: Setuptools is replacing distutils.\"\n"
     ]
    }
   ],
   "source": [
    "!python train.py"
   ]
  },
  {
   "cell_type": "code",
   "execution_count": 9,
   "id": "7d13e640",
   "metadata": {},
   "outputs": [
    {
     "data": {
      "text/plain": [
       "[<Experiment: artifact_location='./mlruns/0', experiment_id='0', lifecycle_stage='active', name='Default', tags={}>,\n",
       " <Experiment: artifact_location='./mlruns/2', experiment_id='2', lifecycle_stage='active', name='nyc-experiment-homework-w2', tags={}>]"
      ]
     },
     "execution_count": 9,
     "metadata": {},
     "output_type": "execute_result"
    }
   ],
   "source": [
    "# connect to client to retrieve number of parameter logged\n",
    "from mlflow.tracking import MlflowClient\n",
    "TRACKING_URI = \"sqlite:///mlflow.db\"\n",
    "client = MlflowClient(tracking_uri = TRACKING_URI )\n",
    "\n",
    "client.list_experiments()"
   ]
  },
  {
   "cell_type": "code",
   "execution_count": 15,
   "id": "1c5715d5",
   "metadata": {},
   "outputs": [
    {
     "data": {
      "text/plain": [
       "[<RunInfo: artifact_uri='./mlruns/2/4537467a7cf448a4af17ab0ac478d4e7/artifacts', end_time=1653987671791, experiment_id='2', lifecycle_stage='active', run_id='4537467a7cf448a4af17ab0ac478d4e7', run_uuid='4537467a7cf448a4af17ab0ac478d4e7', start_time=1653987646247, status='FINISHED', user_id='ubuntu'>]"
      ]
     },
     "execution_count": 15,
     "metadata": {},
     "output_type": "execute_result"
    }
   ],
   "source": [
    "client.list_run_infos(experiment_id=2)"
   ]
  },
  {
   "cell_type": "code",
   "execution_count": 20,
   "id": "b7c127f1",
   "metadata": {},
   "outputs": [
    {
     "data": {
      "text/plain": [
       "{'bootstrap': 'True',\n",
       " 'ccp_alpha': '0.0',\n",
       " 'criterion': 'squared_error',\n",
       " 'max_depth': '10',\n",
       " 'max_features': '1.0',\n",
       " 'max_leaf_nodes': 'None',\n",
       " 'max_samples': 'None',\n",
       " 'min_impurity_decrease': '0.0',\n",
       " 'min_samples_leaf': '1',\n",
       " 'min_samples_split': '2',\n",
       " 'min_weight_fraction_leaf': '0.0',\n",
       " 'n_estimators': '100',\n",
       " 'n_jobs': 'None',\n",
       " 'oob_score': 'False',\n",
       " 'random_state': '0',\n",
       " 'verbose': '0',\n",
       " 'warm_start': 'False'}"
      ]
     },
     "execution_count": 20,
     "metadata": {},
     "output_type": "execute_result"
    }
   ],
   "source": [
    "run = client.get_run(run_id ='4537467a7cf448a4af17ab0ac478d4e7' )\n",
    "\n",
    "params = run.data.params\n",
    "params"
   ]
  },
  {
   "cell_type": "code",
   "execution_count": 23,
   "id": "7ebc73e3",
   "metadata": {},
   "outputs": [
    {
     "name": "stdout",
     "output_type": "stream",
     "text": [
      "The number of parameters automatically logged is 17.\n"
     ]
    }
   ],
   "source": [
    "print(f\"The number of parameters automatically logged is {len(params)}.\")"
   ]
  },
  {
   "cell_type": "markdown",
   "id": "567f572b",
   "metadata": {},
   "source": [
    "# Q4. Launch the tracking server locally"
   ]
  },
  {
   "cell_type": "code",
   "execution_count": 27,
   "id": "98986d9a",
   "metadata": {},
   "outputs": [
    {
     "name": "stdout",
     "output_type": "stream",
     "text": [
      "In addition to backend-store-uri we need also to pass the artifacts-destination in order to configure properly the server.\n"
     ]
    }
   ],
   "source": [
    "print(\"In addition to backend-store-uri we need also to pass the artifacts-destination in order to configure properly the server.\")"
   ]
  },
  {
   "cell_type": "markdown",
   "id": "4d804a45",
   "metadata": {},
   "source": [
    "# Q5. Tune the hyperparameters of the model"
   ]
  },
  {
   "cell_type": "code",
   "execution_count": 97,
   "id": "279416e0",
   "metadata": {},
   "outputs": [
    {
     "name": "stdout",
     "output_type": "stream",
     "text": [
      "100%|█████████| 50/50 [08:51<00:00, 10.63s/trial, best loss: 6.6284257482044735]\n"
     ]
    }
   ],
   "source": [
    "!python hpo.py"
   ]
  },
  {
   "cell_type": "code",
   "execution_count": 98,
   "id": "dad54932",
   "metadata": {},
   "outputs": [
    {
     "name": "stdout",
     "output_type": "stream",
     "text": [
      "run id : 56c4c8a390074e7fb6b768bd653219ec, rmse : 6.628\n",
      "run id : 6baa81164485481782b1cbeb9ef9c71b, rmse : 6.630\n",
      "run id : cb3f9a8e4e1c47c280e075afdbbeb873, rmse : 6.630\n",
      "run id : 4bfc518227ab4a60b6872e3b6780ddfb, rmse : 6.630\n",
      "run id : af69d31010284108bbc2db95ad5a9ac4, rmse : 6.630\n",
      "run id : 5f46c149d1854bc1ad42d3225e523b6d, rmse : 6.631\n"
     ]
    }
   ],
   "source": [
    "from mlflow.entities import ViewType\n",
    "\n",
    "runs = client.search_runs(\n",
    "    experiment_ids= 3,\n",
    "    filter_string=\"\",\n",
    "    run_view_type= ViewType.ACTIVE_ONLY,\n",
    "    max_results= 6,\n",
    "    order_by= [\"metrics.rmse ASC\"]\n",
    ")\n",
    "\n",
    "for run in runs:\n",
    "    print(f\"run id : {run.info.run_id}, rmse : {run.data.metrics['rmse']:.3f}\")\n"
   ]
  },
  {
   "cell_type": "code",
   "execution_count": 99,
   "id": "f6ba8209",
   "metadata": {},
   "outputs": [
    {
     "name": "stdout",
     "output_type": "stream",
     "text": [
      "The best validation RMSE is 6.628.\n"
     ]
    }
   ],
   "source": [
    "print(f\"The best validation RMSE is {runs[0].data.metrics['rmse']:.3f}.\")"
   ]
  },
  {
   "cell_type": "markdown",
   "id": "8183f6d5",
   "metadata": {},
   "source": [
    "# Q6. Promote the best model to the model registry"
   ]
  },
  {
   "cell_type": "code",
   "execution_count": 112,
   "id": "23ce4305",
   "metadata": {},
   "outputs": [
    {
     "name": "stdout",
     "output_type": "stream",
     "text": [
      "Error processing line 1 of /home/ubuntu/anaconda3/envs/exp-tracking-env/lib/python3.9/site-packages/distutils-precedence.pth:\n",
      "\n",
      "  Traceback (most recent call last):\n",
      "    File \"/home/ubuntu/anaconda3/envs/exp-tracking-env/lib/python3.9/site.py\", line 169, in addpackage\n",
      "      exec(line)\n",
      "    File \"<string>\", line 1, in <module>\n",
      "  ModuleNotFoundError: No module named '_distutils_hack'\n",
      "\n",
      "Remainder of file ignored\n",
      "Registered model 'best-model-week-2' already exists. Creating a new version of this model...\n",
      "2022/05/31 13:37:05 INFO mlflow.tracking._model_registry.client: Waiting up to 300 seconds for model version to finish creation.                     Model name: best-model-week-2, version 1\n",
      "Created version '1' of model 'best-model-week-2'.\n"
     ]
    }
   ],
   "source": [
    "!python register_model.py "
   ]
  },
  {
   "cell_type": "code",
   "execution_count": 113,
   "id": "34f9e0bc",
   "metadata": {},
   "outputs": [
    {
     "name": "stdout",
     "output_type": "stream",
     "text": [
      "run id : bcdd3f2a819948e5b2710b9e5985792e, rmse : 6.548\n",
      "run id : 47a465091e124ab1b1e84aad86179a0e, rmse : 6.549\n",
      "run id : f640c29f3b7f4095b2c9a13890b4fdd7, rmse : 6.549\n",
      "run id : 8f4d7a79852f492dbb9dd12f7aa26df1, rmse : 6.549\n",
      "run id : dd4798c0e7624f1aaa836d6062e1956e, rmse : 6.550\n"
     ]
    }
   ],
   "source": [
    "from mlflow.entities import ViewType\n",
    "\n",
    "runs = client.search_runs(\n",
    "    experiment_ids= 4,\n",
    "    filter_string=\"\",\n",
    "    run_view_type= ViewType.ACTIVE_ONLY,\n",
    "    max_results= 6,\n",
    "    order_by= [\"metrics.test_rmse ASC\"]\n",
    ")\n",
    "\n",
    "for run in runs:\n",
    "    print(f\"run id : {run.info.run_id}, rmse : {run.data.metrics['test_rmse']:.3f}\")\n"
   ]
  },
  {
   "cell_type": "code",
   "execution_count": 115,
   "id": "696ab23c",
   "metadata": {},
   "outputs": [
    {
     "name": "stdout",
     "output_type": "stream",
     "text": [
      "The best test RMSE is 6.55.\n"
     ]
    }
   ],
   "source": [
    "print(f\"The best test RMSE is {runs[0].data.metrics['test_rmse']:.2f}.\")"
   ]
  }
 ],
 "metadata": {
  "interpreter": {
   "hash": "28b64ab469a48a0c250e8d59bd611e7be18157868e9c55fbe8ccf7861d9bf740"
  },
  "kernelspec": {
   "display_name": "Python 3.9.12 ('exp-tracking-env')",
   "language": "python",
   "name": "python3"
  },
  "language_info": {
   "codemirror_mode": {
    "name": "ipython",
    "version": 3
   },
   "file_extension": ".py",
   "mimetype": "text/x-python",
   "name": "python",
   "nbconvert_exporter": "python",
   "pygments_lexer": "ipython3",
   "version": "3.9.12"
  }
 },
 "nbformat": 4,
 "nbformat_minor": 5
}
