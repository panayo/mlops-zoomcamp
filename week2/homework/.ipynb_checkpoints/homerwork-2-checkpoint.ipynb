{
 "cells": [
  {
   "cell_type": "markdown",
   "id": "bbf1549d",
   "metadata": {},
   "source": [
    "# Homework Week 2"
   ]
  },
  {
   "cell_type": "markdown",
   "id": "fb28f2a4",
   "metadata": {},
   "source": [
    "## Q1. Install MLflow"
   ]
  },
  {
   "cell_type": "code",
   "execution_count": 5,
   "id": "67a5ac55",
   "metadata": {},
   "outputs": [],
   "source": [
    "import mlflow\n"
   ]
  },
  {
   "cell_type": "code",
   "execution_count": 4,
   "id": "4a67451e",
   "metadata": {},
   "outputs": [
    {
     "name": "stdout",
     "output_type": "stream",
     "text": [
      "mlflow, version 1.26.0\r\n"
     ]
    }
   ],
   "source": [
    "!mlflow --version"
   ]
  },
  {
   "cell_type": "markdown",
   "id": "a60341f6",
   "metadata": {},
   "source": [
    "## Q2. Download and preprocess the data"
   ]
  },
  {
   "cell_type": "code",
   "execution_count": 7,
   "id": "ce4c881a",
   "metadata": {},
   "outputs": [
    {
     "name": "stdout",
     "output_type": "stream",
     "text": [
      "python: can't open file '/home/ubuntu/notebooks/mlops-zoomcamp/week2/preprocess_data.py': [Errno 2] No such file or directory\r\n"
     ]
    }
   ],
   "source": [
    "!python preprocess_data.py --raw_data_path ~/notebooks/mlops-zoomcamp/week2/data/ --dest_path ./output"
   ]
  },
  {
   "cell_type": "code",
   "execution_count": null,
   "id": "3b56b6de",
   "metadata": {},
   "outputs": [],
   "source": []
  }
 ],
 "metadata": {
  "kernelspec": {
   "display_name": "Python 3 (ipykernel)",
   "language": "python",
   "name": "python3"
  },
  "language_info": {
   "codemirror_mode": {
    "name": "ipython",
    "version": 3
   },
   "file_extension": ".py",
   "mimetype": "text/x-python",
   "name": "python",
   "nbconvert_exporter": "python",
   "pygments_lexer": "ipython3",
   "version": "3.9.12"
  }
 },
 "nbformat": 4,
 "nbformat_minor": 5
}
