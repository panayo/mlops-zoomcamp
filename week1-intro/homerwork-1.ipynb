{
 "cells": [
  {
   "cell_type": "markdown",
   "id": "20ec4110",
   "metadata": {},
   "source": [
    "# HomeWork1\n",
    "#### Panayotis Papoutsis"
   ]
  },
  {
   "cell_type": "markdown",
   "id": "3fd1375b",
   "metadata": {},
   "source": [
    "## Librairies "
   ]
  },
  {
   "cell_type": "code",
   "execution_count": 138,
   "id": "7c3d451b",
   "metadata": {},
   "outputs": [],
   "source": [
    "import pandas as pd\n",
    "import seaborn as sns\n",
    "import matplotlib.pyplot as plt\n",
    "from sklearn.feature_extraction import DictVectorizer\n",
    "from sklearn.linear_model import LinearRegression\n",
    "from sklearn.linear_model import Lasso\n",
    "from sklearn.linear_model import Ridge\n",
    "import pickle\n",
    "import numpy as np\n",
    "\n",
    "from sklearn.metrics import mean_squared_error"
   ]
  },
  {
   "cell_type": "markdown",
   "id": "5400af56",
   "metadata": {},
   "source": [
    "### Q1. Downloading the data\n",
    "\n",
    "Read the data for January. How many records are there?"
   ]
  },
  {
   "cell_type": "code",
   "execution_count": 139,
   "id": "43a571e9",
   "metadata": {},
   "outputs": [
    {
     "name": "stdout",
     "output_type": "stream",
     "text": [
      "There are 1154112 records\n"
     ]
    }
   ],
   "source": [
    "df = pd.read_parquet('./data/fhv_tripdata_2021-01.parquet')\n",
    "print(\"There are\",len(df), \"records\")\n",
    "\n",
    "\n"
   ]
  },
  {
   "cell_type": "markdown",
   "id": "305e5cfa",
   "metadata": {},
   "source": [
    "### Q2. Computing duration\n",
    "What's the average trip duration in January?"
   ]
  },
  {
   "cell_type": "code",
   "execution_count": 140,
   "id": "9d43b351",
   "metadata": {},
   "outputs": [
    {
     "data": {
      "text/plain": [
       "dispatching_base_num              object\n",
       "pickup_datetime           datetime64[ns]\n",
       "dropOff_datetime          datetime64[ns]\n",
       "PUlocationID                     float64\n",
       "DOlocationID                     float64\n",
       "SR_Flag                           object\n",
       "Affiliated_base_number            object\n",
       "dtype: object"
      ]
     },
     "execution_count": 140,
     "metadata": {},
     "output_type": "execute_result"
    }
   ],
   "source": [
    "df.dtypes\n"
   ]
  },
  {
   "cell_type": "code",
   "execution_count": 141,
   "id": "94adb628",
   "metadata": {},
   "outputs": [
    {
     "data": {
      "text/plain": [
       "Index(['dispatching_base_num', 'pickup_datetime', 'dropOff_datetime',\n",
       "       'PUlocationID', 'DOlocationID', 'SR_Flag', 'Affiliated_base_number'],\n",
       "      dtype='object')"
      ]
     },
     "execution_count": 141,
     "metadata": {},
     "output_type": "execute_result"
    }
   ],
   "source": [
    "df.columns\n"
   ]
  },
  {
   "cell_type": "code",
   "execution_count": 142,
   "id": "d0f7da68",
   "metadata": {},
   "outputs": [
    {
     "name": "stdout",
     "output_type": "stream",
     "text": [
      "The average trip duration is 19.17 minutes.\n"
     ]
    }
   ],
   "source": [
    "df['duration'] = df.dropOff_datetime -df.pickup_datetime\n",
    "df.duration = df.duration.apply(lambda td : td.total_seconds()/60)\n",
    "print(\"The average trip duration is\", np.around(df.duration.mean(),2),\"minutes.\")\n"
   ]
  },
  {
   "cell_type": "markdown",
   "id": "a809d986",
   "metadata": {},
   "source": [
    "## Data preparation"
   ]
  },
  {
   "cell_type": "code",
   "execution_count": 143,
   "id": "86269678",
   "metadata": {},
   "outputs": [
    {
     "name": "stdout",
     "output_type": "stream",
     "text": [
      "We dropped 44286 records\n"
     ]
    }
   ],
   "source": [
    "print(\"We dropped\",len(df[~((df.duration >= 1) & (df.duration <= 60))]) ,\"records\")"
   ]
  },
  {
   "cell_type": "code",
   "execution_count": 144,
   "id": "82bf293f",
   "metadata": {},
   "outputs": [],
   "source": [
    "df = df[((df.duration >= 1) & (df.duration <= 60))]"
   ]
  },
  {
   "cell_type": "markdown",
   "id": "ee045d84",
   "metadata": {},
   "source": [
    "### Q3. Missing values\n",
    "What's the fractions of missing values for the pickup location ID? I.e. fraction of \"-1\"s after you filled the NAs."
   ]
  },
  {
   "cell_type": "code",
   "execution_count": 145,
   "id": "09ae9904",
   "metadata": {},
   "outputs": [
    {
     "name": "stdout",
     "output_type": "stream",
     "text": [
      "The percentage of missing values for the pickup location ID is  83.53 %.\n"
     ]
    }
   ],
   "source": [
    "print(\"The percentage of missing values for the pickup location ID is \", np.around((df.PUlocationID.isnull().sum()/len(df))*100,2),\"%.\")\n"
   ]
  },
  {
   "cell_type": "code",
   "execution_count": 146,
   "id": "c74be792",
   "metadata": {},
   "outputs": [],
   "source": [
    "categorical = ['PUlocationID', 'DOlocationID']\n",
    "\n",
    "df[categorical] = df[categorical].fillna(-1).astype('int')"
   ]
  },
  {
   "cell_type": "markdown",
   "id": "979622bd",
   "metadata": {},
   "source": [
    "### Q4. One-hot encoding\n",
    "What's the dimensionality of this matrix? (The number of columns)."
   ]
  },
  {
   "cell_type": "code",
   "execution_count": 147,
   "id": "ef79972d",
   "metadata": {},
   "outputs": [
    {
     "data": {
      "text/plain": [
       "<1109826x525 sparse matrix of type '<class 'numpy.float64'>'\n",
       "\twith 2219652 stored elements in Compressed Sparse Row format>"
      ]
     },
     "execution_count": 147,
     "metadata": {},
     "output_type": "execute_result"
    }
   ],
   "source": [
    "categorical = ['PUlocationID','DOlocationID']\n",
    "df[categorical] = df[categorical].astype('str')\n",
    "dv = DictVectorizer()\n",
    "\n",
    "train_dicts = df[categorical].to_dict(orient='records')\n",
    "X_train = dv.fit_transform(train_dicts) \n",
    "X_train"
   ]
  },
  {
   "cell_type": "code",
   "execution_count": 148,
   "id": "adc13119",
   "metadata": {},
   "outputs": [
    {
     "name": "stdout",
     "output_type": "stream",
     "text": [
      "The dimensionality of the design matrix is 525 .\n"
     ]
    }
   ],
   "source": [
    "print(\"The dimensionality of the design matrix is\", len(dv.feature_names_),\".\")"
   ]
  },
  {
   "cell_type": "markdown",
   "id": "98ed098c",
   "metadata": {},
   "source": [
    "### Q5. Training a model\n",
    "What's the RMSE on train?"
   ]
  },
  {
   "cell_type": "code",
   "execution_count": 149,
   "id": "9df2f22b",
   "metadata": {},
   "outputs": [],
   "source": [
    "target = 'duration'\n",
    "\n",
    "y_train = df[target].values"
   ]
  },
  {
   "cell_type": "code",
   "execution_count": 150,
   "id": "a291bf01",
   "metadata": {},
   "outputs": [
    {
     "name": "stdout",
     "output_type": "stream",
     "text": [
      "The RMSE on train is 10.53\n"
     ]
    }
   ],
   "source": [
    "lr = LinearRegression()\n",
    "\n",
    "lr.fit(X_train,y_train)\n",
    "y_pred = lr.predict(X_train)\n",
    "\n",
    "print(\"The RMSE on train is\", np.round(mean_squared_error(y_train,y_pred,squared=False),2))"
   ]
  },
  {
   "cell_type": "markdown",
   "id": "84b19ba8",
   "metadata": {},
   "source": [
    "### Q6. Evaluating the model\n",
    "What's the RMSE on validation?"
   ]
  },
  {
   "cell_type": "code",
   "execution_count": 151,
   "id": "0b4e0d9f",
   "metadata": {},
   "outputs": [],
   "source": [
    "categorical = ['PUlocationID', 'DOlocationID']\n",
    "\n",
    "def read_data(filename):\n",
    "    df = pd.read_parquet(filename)\n",
    "    \n",
    "    df['duration'] = df.dropOff_datetime - df.pickup_datetime\n",
    "    df['duration'] = df.duration.dt.total_seconds() / 60\n",
    "\n",
    "    df = df[(df.duration >= 1) & (df.duration <= 60)].copy()\n",
    "\n",
    "    df[categorical] = df[categorical].fillna(-1).astype('int').astype('str')\n",
    "    \n",
    "    return df"
   ]
  },
  {
   "cell_type": "code",
   "execution_count": 152,
   "id": "604a627f",
   "metadata": {},
   "outputs": [],
   "source": [
    "df_val = read_data('./data/fhv_tripdata_2021-02.parquet')"
   ]
  },
  {
   "cell_type": "code",
   "execution_count": 153,
   "id": "33bf55a2",
   "metadata": {},
   "outputs": [],
   "source": [
    "val_dicts = df_val[categorical].to_dict(orient='records')\n",
    "X_val = dv.transform(val_dicts) "
   ]
  },
  {
   "cell_type": "code",
   "execution_count": 154,
   "id": "7f51e23e",
   "metadata": {},
   "outputs": [
    {
     "name": "stdout",
     "output_type": "stream",
     "text": [
      "The RMSE is 11.01\n"
     ]
    }
   ],
   "source": [
    "\n",
    "y_val = df_val.duration.values\n",
    "y_pred = lr.predict(X_val)\n",
    "print(\"The RMSE is\", np.round(mean_squared_error(y_val,y_pred,squared=False),2))"
   ]
  }
 ],
 "metadata": {
  "kernelspec": {
   "display_name": "Python 3 (ipykernel)",
   "language": "python",
   "name": "python3"
  },
  "language_info": {
   "codemirror_mode": {
    "name": "ipython",
    "version": 3
   },
   "file_extension": ".py",
   "mimetype": "text/x-python",
   "name": "python",
   "nbconvert_exporter": "python",
   "pygments_lexer": "ipython3",
   "version": "3.9.12"
  }
 },
 "nbformat": 4,
 "nbformat_minor": 5
}
