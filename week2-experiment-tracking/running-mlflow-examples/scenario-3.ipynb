{
 "cells": [
  {
   "cell_type": "markdown",
   "metadata": {},
   "source": [
    "## Scenario 3: Tracking server on localhost with SQLite backend and remote (s3) artifacts store\n",
    "\n",
    "To run this example you need to launch the mlflow server locally by running the following command in your terminal:\n",
    "\n",
    "`mlflow server --backend-store-uri sqlite:///backend.db --default-artifact-root s3://<YOUR_BUCKET>`\n",
    "\n",
    "The exampe uses an s3 bucket to store the artifacts, so you'll to provide the bucket. Check the [mlflow documentation](https://mlflow.org/docs/latest/tracking.html#artifact-stores) for more options to store your artifacs."
   ]
  },
  {
   "cell_type": "code",
   "execution_count": 1,
   "metadata": {},
   "outputs": [],
   "source": [
    "import mlflow\n",
    "import os\n",
    "\n",
    "os.environ[\"AWS_PROFILE\"] = \"pana\" # fill in with your AWS profile. More info: https://docs.aws.amazon.com/sdk-for-java/latest/developer-guide/setup.html#setup-credentials\n",
    "\n",
    "TRACKING_HOST_SERVER = 'ec2-XX-XXX-XX-XXX.compute-1.amazonaws.com'\n",
    "mlflow.set_tracking_uri(f\"http://{TRACKING_HOST_SERVER}:5000\")"
   ]
  },
  {
   "cell_type": "code",
   "execution_count": 3,
   "metadata": {},
   "outputs": [
    {
     "name": "stdout",
     "output_type": "stream",
     "text": [
      "tracking uri: http://ec2-XX-XXX-XX-XXX.compute-1.amazonaws.com:5000\n"
     ]
    }
   ],
   "source": [
    "print(f\"tracking uri: {mlflow.get_tracking_uri()}\")"
   ]
  },
  {
   "cell_type": "code",
   "execution_count": 5,
   "metadata": {},
   "outputs": [
    {
     "data": {
      "text/plain": [
       "[<Experiment: artifact_location='s3://mlflow-artifacts-remote-store/0', experiment_id='0', lifecycle_stage='active', name='Default', tags={}>,\n",
       " <Experiment: artifact_location='s3://mlflow-artifacts-remote-store/1', experiment_id='1', lifecycle_stage='active', name='my-experiment-1', tags={}>]"
      ]
     },
     "execution_count": 5,
     "metadata": {},
     "output_type": "execute_result"
    }
   ],
   "source": [
    "mlflow.list_experiments()"
   ]
  },
  {
   "cell_type": "code",
   "execution_count": 6,
   "metadata": {},
   "outputs": [
    {
     "name": "stderr",
     "output_type": "stream",
     "text": [
      "/home/ubuntu/anaconda3/envs/exp-tracking-env-week2/lib/python3.9/site-packages/_distutils_hack/__init__.py:30: UserWarning: Setuptools is replacing distutils.\n",
      "  warnings.warn(\"Setuptools is replacing distutils.\")\n"
     ]
    }
   ],
   "source": [
    "from sklearn.linear_model import LogisticRegression\n",
    "from sklearn.datasets import load_iris\n",
    "from sklearn.metrics import accuracy_score\n",
    "\n",
    "mlflow.set_experiment(\"my-experiment-1\")\n",
    "\n",
    "with mlflow.start_run():\n",
    "\n",
    "    X, y = load_iris(return_X_y=True)\n",
    "\n",
    "    params = {\"C\": 0.1, \"random_state\": 42}\n",
    "    mlflow.log_params(params)\n",
    "\n",
    "    lr = LogisticRegression(**params).fit(X, y)\n",
    "    y_pred = lr.predict(X)\n",
    "    mlflow.log_metric(\"accuracy\", accuracy_score(y, y_pred))\n",
    "\n",
    "    mlflow.sklearn.log_model(lr, artifact_path=\"models\")"
   ]
  },
  {
   "cell_type": "code",
   "execution_count": 7,
   "metadata": {},
   "outputs": [
    {
     "data": {
      "text/plain": [
       "[<Experiment: artifact_location='s3://mlflow-artifacts-remote-store/0', experiment_id='0', lifecycle_stage='active', name='Default', tags={}>,\n",
       " <Experiment: artifact_location='s3://mlflow-artifacts-remote-store/1', experiment_id='1', lifecycle_stage='active', name='my-experiment-1', tags={}>]"
      ]
     },
     "execution_count": 7,
     "metadata": {},
     "output_type": "execute_result"
    }
   ],
   "source": [
    "mlflow.list_experiments()"
   ]
  },
  {
   "cell_type": "markdown",
   "metadata": {},
   "source": [
    "### Interacting with the model registry"
   ]
  },
  {
   "cell_type": "code",
   "execution_count": 8,
   "metadata": {},
   "outputs": [],
   "source": [
    "from mlflow.tracking import MlflowClient\n",
    "\n",
    "\n",
    "client = MlflowClient(f\"http://{TRACKING_HOST_SERVER}:5000\")"
   ]
  },
  {
   "cell_type": "code",
   "execution_count": 9,
   "metadata": {},
   "outputs": [
    {
     "data": {
      "text/plain": [
       "[<RegisteredModel: creation_timestamp=1654680828749, description='', last_updated_timestamp=1654680828780, latest_versions=[<ModelVersion: creation_timestamp=1654680828780, current_stage='None', description='', last_updated_timestamp=1654680828780, name='iris-classifier', run_id='7d780f443d2f4beb9753d3c5f9cce5f9', run_link='', source='s3://mlflow-artifacts-remote-store/1/7d780f443d2f4beb9753d3c5f9cce5f9/artifacts/models', status='READY', status_message='', tags={}, user_id='', version='1'>], name='iris-classifier', tags={}>]"
      ]
     },
     "execution_count": 9,
     "metadata": {},
     "output_type": "execute_result"
    }
   ],
   "source": [
    "client.list_registered_models()"
   ]
  },
  {
   "cell_type": "code",
   "execution_count": 10,
   "metadata": {},
   "outputs": [
    {
     "name": "stderr",
     "output_type": "stream",
     "text": [
      "Successfully registered model 'iris-classifier-1'.\n",
      "2022/06/08 10:59:24 INFO mlflow.tracking._model_registry.client: Waiting up to 300 seconds for model version to finish creation.                     Model name: iris-classifier-1, version 1\n",
      "Created version '1' of model 'iris-classifier-1'.\n"
     ]
    },
    {
     "data": {
      "text/plain": [
       "<ModelVersion: creation_timestamp=1654685964093, current_stage='None', description='', last_updated_timestamp=1654685964093, name='iris-classifier-1', run_id='332a813ecebb40bb81d9b2da9dcb2651', run_link='', source='s3://mlflow-artifacts-remote-store/1/332a813ecebb40bb81d9b2da9dcb2651/artifacts/models', status='READY', status_message='', tags={}, user_id='', version='1'>"
      ]
     },
     "execution_count": 10,
     "metadata": {},
     "output_type": "execute_result"
    }
   ],
   "source": [
    "run_id = client.list_run_infos(experiment_id='1')[0].run_id\n",
    "mlflow.register_model(\n",
    "    model_uri=f\"runs:/{run_id}/models\",\n",
    "    name='iris-classifier-1'\n",
    ")"
   ]
  },
  {
   "cell_type": "code",
   "execution_count": 11,
   "metadata": {},
   "outputs": [
    {
     "data": {
      "text/plain": [
       "[<RegisteredModel: creation_timestamp=1654680828749, description='', last_updated_timestamp=1654680828780, latest_versions=[<ModelVersion: creation_timestamp=1654680828780, current_stage='None', description='', last_updated_timestamp=1654680828780, name='iris-classifier', run_id='7d780f443d2f4beb9753d3c5f9cce5f9', run_link='', source='s3://mlflow-artifacts-remote-store/1/7d780f443d2f4beb9753d3c5f9cce5f9/artifacts/models', status='READY', status_message='', tags={}, user_id='', version='1'>], name='iris-classifier', tags={}>,\n",
       " <RegisteredModel: creation_timestamp=1654685964064, description='', last_updated_timestamp=1654685964093, latest_versions=[<ModelVersion: creation_timestamp=1654685964093, current_stage='None', description='', last_updated_timestamp=1654685964093, name='iris-classifier-1', run_id='332a813ecebb40bb81d9b2da9dcb2651', run_link='', source='s3://mlflow-artifacts-remote-store/1/332a813ecebb40bb81d9b2da9dcb2651/artifacts/models', status='READY', status_message='', tags={}, user_id='', version='1'>], name='iris-classifier-1', tags={}>]"
      ]
     },
     "execution_count": 11,
     "metadata": {},
     "output_type": "execute_result"
    }
   ],
   "source": [
    "client.list_registered_models()"
   ]
  }
 ],
 "metadata": {
  "interpreter": {
   "hash": "1a9348d6448fd51f07ed9b3c52a9fe9c87043e536ad1eca4bd6c5fac82fecfeb"
  },
  "kernelspec": {
   "display_name": "Python 3.9.12 ('exp-tracking-env-week2')",
   "language": "python",
   "name": "python3"
  },
  "language_info": {
   "codemirror_mode": {
    "name": "ipython",
    "version": 3
   },
   "file_extension": ".py",
   "mimetype": "text/x-python",
   "name": "python",
   "nbconvert_exporter": "python",
   "pygments_lexer": "ipython3",
   "version": "3.9.12"
  },
  "orig_nbformat": 4
 },
 "nbformat": 4,
 "nbformat_minor": 2
}
