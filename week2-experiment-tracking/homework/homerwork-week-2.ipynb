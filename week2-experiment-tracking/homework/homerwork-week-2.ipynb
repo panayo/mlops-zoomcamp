{
 "cells": [
  {
   "cell_type": "markdown",
   "id": "bbf1549d",
   "metadata": {},
   "source": [
    "# Homework Week 2"
   ]
  },
  {
   "cell_type": "code",
   "execution_count": 1,
   "id": "d66ec5fc",
   "metadata": {},
   "outputs": [],
   "source": [
    "import warnings\n",
    "warnings.filterwarnings('ignore')"
   ]
  },
  {
   "cell_type": "markdown",
   "id": "fb28f2a4",
   "metadata": {},
   "source": [
    "## Q1. Install MLflow"
   ]
  },
  {
   "cell_type": "code",
   "execution_count": 2,
   "id": "67a5ac55",
   "metadata": {},
   "outputs": [],
   "source": [
    "import mlflow"
   ]
  },
  {
   "cell_type": "code",
   "execution_count": 3,
   "id": "9c7cebf8",
   "metadata": {},
   "outputs": [
    {
     "name": "stdout",
     "output_type": "stream",
     "text": [
      "The version of MLflow is ['1.26.1']\n"
     ]
    }
   ],
   "source": [
    "version = !mlflow --version\n",
    "print(f\"The version of MLflow is {version.fields(2)}\")"
   ]
  },
  {
   "cell_type": "markdown",
   "id": "a60341f6",
   "metadata": {},
   "source": [
    "## Q2. Download and preprocess the data"
   ]
  },
  {
   "cell_type": "code",
   "execution_count": 4,
   "id": "ce4c881a",
   "metadata": {},
   "outputs": [],
   "source": [
    "!python preprocess_data.py --raw_data_path ~/notebooks/mlops-zoomcamp/week2/data/ --dest_path ./output"
   ]
  },
  {
   "cell_type": "code",
   "execution_count": 5,
   "id": "3b56b6de",
   "metadata": {},
   "outputs": [
    {
     "name": "stdout",
     "output_type": "stream",
     "text": [
      "['dv.pkl', 'test.pkl', 'train.pkl', 'valid.pkl']\n",
      "In total there are 4 files created in the output.\n"
     ]
    }
   ],
   "source": [
    "out = !ls ./output\n",
    "print(out)\n",
    "print(f\"In total there are {len(out)} files created in the output.\")"
   ]
  },
  {
   "cell_type": "markdown",
   "id": "9e00ac46",
   "metadata": {},
   "source": [
    "# Q3. Train a model with autolog"
   ]
  },
  {
   "cell_type": "code",
   "execution_count": 6,
   "id": "9ccf21e6",
   "metadata": {},
   "outputs": [
    {
     "name": "stdout",
     "output_type": "stream",
     "text": [
      "2022/05/31 20:17:10 WARNING mlflow.utils.autologging_utils: MLflow autologging encountered a warning: \"/home/ubuntu/anaconda3/envs/exp-tracking-env-week2/lib/python3.9/site-packages/_distutils_hack/__init__.py:30: UserWarning: Setuptools is replacing distutils.\"\n"
     ]
    }
   ],
   "source": [
    "!python train.py"
   ]
  },
  {
   "cell_type": "code",
   "execution_count": 7,
   "id": "7d13e640",
   "metadata": {},
   "outputs": [
    {
     "data": {
      "text/plain": [
       "[<Experiment: artifact_location='./mlruns/0', experiment_id='0', lifecycle_stage='active', name='Default', tags={}>,\n",
       " <Experiment: artifact_location='./mlruns/2', experiment_id='2', lifecycle_stage='active', name='nyc-experiment-homework-w2', tags={}>]"
      ]
     },
     "execution_count": 7,
     "metadata": {},
     "output_type": "execute_result"
    }
   ],
   "source": [
    "# connect to client to retrieve number of parameter logged\n",
    "from mlflow.tracking import MlflowClient\n",
    "TRACKING_URI = \"sqlite:///mlflow.db\"\n",
    "client = MlflowClient(tracking_uri = TRACKING_URI )\n",
    "\n",
    "client.list_experiments()"
   ]
  },
  {
   "cell_type": "code",
   "execution_count": 8,
   "id": "1c5715d5",
   "metadata": {},
   "outputs": [
    {
     "data": {
      "text/plain": [
       "[<RunInfo: artifact_uri='./mlruns/2/8bb6930f50334314bd83bdcfe81f96cf/artifacts', end_time=1654028230543, experiment_id='2', lifecycle_stage='active', run_id='8bb6930f50334314bd83bdcfe81f96cf', run_uuid='8bb6930f50334314bd83bdcfe81f96cf', start_time=1654028204827, status='FINISHED', user_id='ubuntu'>,\n",
       " <RunInfo: artifact_uri='./mlruns/2/080d9b0c64a248acb0b281867e58dc51/artifacts', end_time=1654007723100, experiment_id='2', lifecycle_stage='active', run_id='080d9b0c64a248acb0b281867e58dc51', run_uuid='080d9b0c64a248acb0b281867e58dc51', start_time=1654007697579, status='FINISHED', user_id='ubuntu'>,\n",
       " <RunInfo: artifact_uri='./mlruns/2/119cfd7c3ebd439088a8f158288d3c07/artifacts', end_time=1654006259855, experiment_id='2', lifecycle_stage='active', run_id='119cfd7c3ebd439088a8f158288d3c07', run_uuid='119cfd7c3ebd439088a8f158288d3c07', start_time=1654006234336, status='FINISHED', user_id='ubuntu'>,\n",
       " <RunInfo: artifact_uri='./mlruns/2/51e5e76aca494759b8f5c90988392f13/artifacts', end_time=1654006146468, experiment_id='2', lifecycle_stage='active', run_id='51e5e76aca494759b8f5c90988392f13', run_uuid='51e5e76aca494759b8f5c90988392f13', start_time=1654006121114, status='FINISHED', user_id='ubuntu'>,\n",
       " <RunInfo: artifact_uri='./mlruns/2/ba705a969113497484098333a4afec96/artifacts', end_time=1654005321497, experiment_id='2', lifecycle_stage='active', run_id='ba705a969113497484098333a4afec96', run_uuid='ba705a969113497484098333a4afec96', start_time=1654005293286, status='FINISHED', user_id='ubuntu'>,\n",
       " <RunInfo: artifact_uri='./mlruns/2/2b61f1f72b2245aca897f5a41d62b95f/artifacts', end_time=1654004700166, experiment_id='2', lifecycle_stage='active', run_id='2b61f1f72b2245aca897f5a41d62b95f', run_uuid='2b61f1f72b2245aca897f5a41d62b95f', start_time=1654004674609, status='FINISHED', user_id='ubuntu'>,\n",
       " <RunInfo: artifact_uri='./mlruns/2/4537467a7cf448a4af17ab0ac478d4e7/artifacts', end_time=1653987671791, experiment_id='2', lifecycle_stage='active', run_id='4537467a7cf448a4af17ab0ac478d4e7', run_uuid='4537467a7cf448a4af17ab0ac478d4e7', start_time=1653987646247, status='FINISHED', user_id='ubuntu'>]"
      ]
     },
     "execution_count": 8,
     "metadata": {},
     "output_type": "execute_result"
    }
   ],
   "source": [
    "client.list_run_infos(experiment_id=2)"
   ]
  },
  {
   "cell_type": "code",
   "execution_count": 9,
   "id": "b7c127f1",
   "metadata": {},
   "outputs": [
    {
     "data": {
      "text/plain": [
       "{'bootstrap': 'True',\n",
       " 'ccp_alpha': '0.0',\n",
       " 'criterion': 'squared_error',\n",
       " 'max_depth': '10',\n",
       " 'max_features': '1.0',\n",
       " 'max_leaf_nodes': 'None',\n",
       " 'max_samples': 'None',\n",
       " 'min_impurity_decrease': '0.0',\n",
       " 'min_samples_leaf': '1',\n",
       " 'min_samples_split': '2',\n",
       " 'min_weight_fraction_leaf': '0.0',\n",
       " 'n_estimators': '100',\n",
       " 'n_jobs': 'None',\n",
       " 'oob_score': 'False',\n",
       " 'random_state': '0',\n",
       " 'verbose': '0',\n",
       " 'warm_start': 'False'}"
      ]
     },
     "execution_count": 9,
     "metadata": {},
     "output_type": "execute_result"
    }
   ],
   "source": [
    "run = client.get_run(run_id ='4537467a7cf448a4af17ab0ac478d4e7' )\n",
    "\n",
    "params = run.data.params\n",
    "params"
   ]
  },
  {
   "cell_type": "code",
   "execution_count": 10,
   "id": "7ebc73e3",
   "metadata": {},
   "outputs": [
    {
     "name": "stdout",
     "output_type": "stream",
     "text": [
      "The number of parameters automatically logged is 17.\n"
     ]
    }
   ],
   "source": [
    "print(f\"The number of parameters automatically logged is {len(params)}.\")"
   ]
  },
  {
   "cell_type": "markdown",
   "id": "567f572b",
   "metadata": {},
   "source": [
    "# Q4. Launch the tracking server locally"
   ]
  },
  {
   "cell_type": "code",
   "execution_count": 11,
   "id": "98986d9a",
   "metadata": {},
   "outputs": [
    {
     "name": "stdout",
     "output_type": "stream",
     "text": [
      "In addition to backend-store-uri we need also to pass the artifacts-destination in order to configure properly the server.\n"
     ]
    }
   ],
   "source": [
    "print(\"In addition to backend-store-uri we need also to pass the artifacts-destination in order to configure properly the server.\")"
   ]
  },
  {
   "cell_type": "markdown",
   "id": "4d804a45",
   "metadata": {},
   "source": [
    "# Q5. Tune the hyperparameters of the model"
   ]
  },
  {
   "cell_type": "code",
   "execution_count": 12,
   "id": "279416e0",
   "metadata": {},
   "outputs": [
    {
     "name": "stdout",
     "output_type": "stream",
     "text": [
      "Traceback (most recent call last):\n",
      "  File \"/home/ubuntu/notebooks/mlops-zoomcamp/week2/homework/hpo.py\", line 13, in <module>\n",
      "    mlflow.set_experiment(\"random-forest-hyperopt\")\n",
      "  File \"/home/ubuntu/anaconda3/envs/exp-tracking-env-week2/lib/python3.9/site-packages/mlflow/tracking/fluent.py\", line 130, in set_experiment\n",
      "    raise MlflowException(\n",
      "mlflow.exceptions.MlflowException: Cannot set a deleted experiment 'random-forest-hyperopt' as the active experiment. You can restore the experiment, or permanently delete the experiment to create a new one.\n"
     ]
    }
   ],
   "source": [
    "!python hpo.py"
   ]
  },
  {
   "cell_type": "code",
   "execution_count": 13,
   "id": "dad54932",
   "metadata": {},
   "outputs": [
    {
     "name": "stdout",
     "output_type": "stream",
     "text": [
      "run id : 7aed9597b38640baa992a1d09c52db9c, rmse : 6.628\n",
      "run id : 5474545d1a1d4a30b97bc6e02ed958a2, rmse : 6.628\n",
      "run id : 340d2655e5d74a73bf3cb0d2f3d3507c, rmse : 6.628\n",
      "run id : 56c4c8a390074e7fb6b768bd653219ec, rmse : 6.628\n",
      "run id : ba927dfb77724e3f9a5b95b07ea32bf8, rmse : 6.630\n",
      "run id : 86973faba61d4dc9868ac00272e29737, rmse : 6.630\n"
     ]
    }
   ],
   "source": [
    "from mlflow.entities import ViewType\n",
    "\n",
    "runs = client.search_runs(\n",
    "    experiment_ids= 3,\n",
    "    filter_string=\"\",\n",
    "    run_view_type= ViewType.ACTIVE_ONLY,\n",
    "    max_results= 6,\n",
    "    order_by= [\"metrics.rmse ASC\"]\n",
    ")\n",
    "\n",
    "for run in runs:\n",
    "    print(f\"run id : {run.info.run_id}, rmse : {run.data.metrics['rmse']:.3f}\")\n"
   ]
  },
  {
   "cell_type": "code",
   "execution_count": 14,
   "id": "f6ba8209",
   "metadata": {},
   "outputs": [
    {
     "name": "stdout",
     "output_type": "stream",
     "text": [
      "The best validation RMSE is 6.628.\n"
     ]
    }
   ],
   "source": [
    "print(f\"The best validation RMSE is {runs[0].data.metrics['rmse']:.3f}.\")"
   ]
  },
  {
   "cell_type": "markdown",
   "id": "8183f6d5",
   "metadata": {},
   "source": [
    "# Q6. Promote the best model to the model registry"
   ]
  },
  {
   "cell_type": "code",
   "execution_count": 15,
   "id": "23ce4305",
   "metadata": {},
   "outputs": [
    {
     "name": "stdout",
     "output_type": "stream",
     "text": [
      "Traceback (most recent call last):\n",
      "  File \"/home/ubuntu/notebooks/mlops-zoomcamp/week2/homework/register_model.py\", line 17, in <module>\n",
      "    mlflow.set_experiment(EXPERIMENT_NAME)\n",
      "  File \"/home/ubuntu/anaconda3/envs/exp-tracking-env-week2/lib/python3.9/site-packages/mlflow/tracking/fluent.py\", line 130, in set_experiment\n",
      "    raise MlflowException(\n",
      "mlflow.exceptions.MlflowException: Cannot set a deleted experiment 'random-forest-best-models' as the active experiment. You can restore the experiment, or permanently delete the experiment to create a new one.\n"
     ]
    }
   ],
   "source": [
    "!python register_model.py "
   ]
  },
  {
   "cell_type": "code",
   "execution_count": 16,
   "id": "34f9e0bc",
   "metadata": {},
   "outputs": [
    {
     "name": "stdout",
     "output_type": "stream",
     "text": [
      "run id : 388e33dce80f4a1fa2cbdbfa9c06cd49, rmse : 6.548\n",
      "run id : 168ddcf6b3c44035a2a18b2111c359e8, rmse : 6.548\n",
      "run id : eb044b7640034b67a0de17b248ee8bec, rmse : 6.548\n",
      "run id : 906c6af39c09487ab3f720e08a3d10c0, rmse : 6.548\n",
      "run id : d92c174a9a8e4440b885bf4e16876fa4, rmse : 6.548\n",
      "run id : 13398b8d56fb492383fa87e488a5fdcc, rmse : 6.548\n"
     ]
    }
   ],
   "source": [
    "from mlflow.entities import ViewType\n",
    "\n",
    "runs = client.search_runs(\n",
    "    experiment_ids= 4,\n",
    "    filter_string=\"\",\n",
    "    run_view_type= ViewType.ACTIVE_ONLY,\n",
    "    max_results= 6,\n",
    "    order_by= [\"metrics.test_rmse ASC\"]\n",
    ")\n",
    "\n",
    "for run in runs:\n",
    "    print(f\"run id : {run.info.run_id}, rmse : {run.data.metrics['test_rmse']:.3f}\")\n"
   ]
  },
  {
   "cell_type": "code",
   "execution_count": 17,
   "id": "696ab23c",
   "metadata": {},
   "outputs": [
    {
     "name": "stdout",
     "output_type": "stream",
     "text": [
      "The best test RMSE is 6.55.\n"
     ]
    }
   ],
   "source": [
    "print(f\"The best test RMSE is {runs[0].data.metrics['test_rmse']:.2f}.\")"
   ]
  }
 ],
 "metadata": {
  "interpreter": {
   "hash": "1a9348d6448fd51f07ed9b3c52a9fe9c87043e536ad1eca4bd6c5fac82fecfeb"
  },
  "kernelspec": {
   "display_name": "Python 3.9.12 ('exp-tracking-env-week2')",
   "language": "python",
   "name": "python3"
  },
  "language_info": {
   "codemirror_mode": {
    "name": "ipython",
    "version": 3
   },
   "file_extension": ".py",
   "mimetype": "text/x-python",
   "name": "python",
   "nbconvert_exporter": "python",
   "pygments_lexer": "ipython3",
   "version": "3.9.12"
  }
 },
 "nbformat": 4,
 "nbformat_minor": 5
}
